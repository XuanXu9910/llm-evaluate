{
 "cells": [
  {
   "cell_type": "code",
   "execution_count": 13,
   "metadata": {},
   "outputs": [
    {
     "name": "stderr",
     "output_type": "stream",
     "text": [
      "Repo card metadata block was not found. Setting CardData to empty.\n"
     ]
    }
   ],
   "source": [
    "from datasets import load_dataset\n",
    "from rich import print as pprint\n",
    "dataset = load_dataset(\n",
    "    \"explodinggradients/amnesty_qa\",\n",
    "    \"english_v3\",\n",
    "    trust_remote_code=True\n",
    ")"
   ]
  },
  {
   "cell_type": "code",
   "execution_count": 2,
   "metadata": {},
   "outputs": [
    {
     "data": {
      "text/plain": [
       "DatasetDict({\n",
       "    eval: Dataset({\n",
       "        features: ['user_input', 'reference', 'response', 'retrieved_contexts'],\n",
       "        num_rows: 20\n",
       "    })\n",
       "})"
      ]
     },
     "execution_count": 2,
     "metadata": {},
     "output_type": "execute_result"
    }
   ],
   "source": [
    "# user_input 為問題\n",
    "# reference 為標準答案\n",
    "# response 為RAG應用所提供的回答\n",
    "# retrieved_contexts 為RAG所檢索的文檔\n",
    "dataset"
   ]
  },
  {
   "cell_type": "code",
   "execution_count": 4,
   "metadata": {},
   "outputs": [
    {
     "data": {
      "text/html": [
       "<div>\n",
       "<style scoped>\n",
       "    .dataframe tbody tr th:only-of-type {\n",
       "        vertical-align: middle;\n",
       "    }\n",
       "\n",
       "    .dataframe tbody tr th {\n",
       "        vertical-align: top;\n",
       "    }\n",
       "\n",
       "    .dataframe thead th {\n",
       "        text-align: right;\n",
       "    }\n",
       "</style>\n",
       "<table border=\"1\" class=\"dataframe\">\n",
       "  <thead>\n",
       "    <tr style=\"text-align: right;\">\n",
       "      <th></th>\n",
       "      <th>user_input</th>\n",
       "      <th>reference</th>\n",
       "      <th>response</th>\n",
       "      <th>retrieved_contexts</th>\n",
       "    </tr>\n",
       "  </thead>\n",
       "  <tbody>\n",
       "    <tr>\n",
       "      <th>0</th>\n",
       "      <td>What are the global implications of the USA Su...</td>\n",
       "      <td>The global implications of the USA Supreme Cou...</td>\n",
       "      <td>The global implications of the USA Supreme Cou...</td>\n",
       "      <td>[- In 2022, the USA Supreme Court handed down ...</td>\n",
       "    </tr>\n",
       "    <tr>\n",
       "      <th>1</th>\n",
       "      <td>Which companies are the main contributors to G...</td>\n",
       "      <td>According to the Carbon Majors database, the m...</td>\n",
       "      <td>According to the Carbon Majors database, the m...</td>\n",
       "      <td>[In recent years, there has been increasing pr...</td>\n",
       "    </tr>\n",
       "    <tr>\n",
       "      <th>2</th>\n",
       "      <td>Which private companies in the Americas are th...</td>\n",
       "      <td>The largest private companies in the Americas ...</td>\n",
       "      <td>According to the Carbon Majors database, the l...</td>\n",
       "      <td>[The issue of greenhouse gas emissions has bec...</td>\n",
       "    </tr>\n",
       "    <tr>\n",
       "      <th>3</th>\n",
       "      <td>What action did Amnesty International urge its...</td>\n",
       "      <td>Amnesty International urged its supporters to ...</td>\n",
       "      <td>Amnesty International urged its supporters to ...</td>\n",
       "      <td>[In the case of the Ogoni 9, Amnesty Internati...</td>\n",
       "    </tr>\n",
       "    <tr>\n",
       "      <th>4</th>\n",
       "      <td>What are the recommendations made by Amnesty I...</td>\n",
       "      <td>The recommendations made by Amnesty Internatio...</td>\n",
       "      <td>Amnesty International made several recommendat...</td>\n",
       "      <td>[In recent years, Amnesty International has fo...</td>\n",
       "    </tr>\n",
       "  </tbody>\n",
       "</table>\n",
       "</div>"
      ],
      "text/plain": [
       "                                          user_input  \\\n",
       "0  What are the global implications of the USA Su...   \n",
       "1  Which companies are the main contributors to G...   \n",
       "2  Which private companies in the Americas are th...   \n",
       "3  What action did Amnesty International urge its...   \n",
       "4  What are the recommendations made by Amnesty I...   \n",
       "\n",
       "                                           reference  \\\n",
       "0  The global implications of the USA Supreme Cou...   \n",
       "1  According to the Carbon Majors database, the m...   \n",
       "2  The largest private companies in the Americas ...   \n",
       "3  Amnesty International urged its supporters to ...   \n",
       "4  The recommendations made by Amnesty Internatio...   \n",
       "\n",
       "                                            response  \\\n",
       "0  The global implications of the USA Supreme Cou...   \n",
       "1  According to the Carbon Majors database, the m...   \n",
       "2  According to the Carbon Majors database, the l...   \n",
       "3  Amnesty International urged its supporters to ...   \n",
       "4  Amnesty International made several recommendat...   \n",
       "\n",
       "                                  retrieved_contexts  \n",
       "0  [- In 2022, the USA Supreme Court handed down ...  \n",
       "1  [In recent years, there has been increasing pr...  \n",
       "2  [The issue of greenhouse gas emissions has bec...  \n",
       "3  [In the case of the Ogoni 9, Amnesty Internati...  \n",
       "4  [In recent years, Amnesty International has fo...  "
      ]
     },
     "execution_count": 4,
     "metadata": {},
     "output_type": "execute_result"
    }
   ],
   "source": [
    "import pandas as pd\n",
    "\n",
    "dataset_df = pd.DataFrame(dataset[\"eval\"])\n",
    "dataset_df.head()"
   ]
  },
  {
   "cell_type": "code",
   "execution_count": 18,
   "metadata": {},
   "outputs": [
    {
     "name": "stdout",
     "output_type": "stream",
     "text": [
      "<class 'list'>\n"
     ]
    },
    {
     "data": {
      "text/html": [
       "<pre style=\"white-space:pre;overflow-x:auto;line-height:normal;font-family:Menlo,'DejaVu Sans Mono',consolas,'Courier New',monospace\"><span style=\"font-weight: bold\">[</span>\n",
       "    <span style=\"color: #008000; text-decoration-color: #008000\">\"- In 2022, the USA Supreme Court handed down a decision ruling that overturned 50 years of jurisprudence </span>\n",
       "<span style=\"color: #008000; text-decoration-color: #008000\">recognizing a constitutional right to abortion.\\n- This decision has had a massive impact: one in three women and </span>\n",
       "<span style=\"color: #008000; text-decoration-color: #008000\">girls of reproductive age now live in states where abortion access is either totally or near-totally </span>\n",
       "<span style=\"color: #008000; text-decoration-color: #008000\">inaccessible.\\n- The states with the most restrictive abortion laws have the weakest maternal health support, </span>\n",
       "<span style=\"color: #008000; text-decoration-color: #008000\">higher maternal death rates, and higher child poverty rates.\\n- The USA Supreme Court ruling has also had impacts </span>\n",
       "<span style=\"color: #008000; text-decoration-color: #008000\">beyond national borders due to the geopolitical and cultural influence wielded by the USA globally and the aid it </span>\n",
       "<span style=\"color: #008000; text-decoration-color: #008000\">funds.\\n- SRR organizations and activists across the world have expressed fear about the ruling laying the </span>\n",
       "<span style=\"color: #008000; text-decoration-color: #008000\">groundwork for anti-abortion legislative and policy attacks in other countries.\\n- Advocates have also observed the</span>\n",
       "<span style=\"color: #008000; text-decoration-color: #008000\">ruling's impact on progressive law reform and the stalling of the adoption and enforcement of abortion guidelines </span>\n",
       "<span style=\"color: #008000; text-decoration-color: #008000\">in certain African countries.\\n- The ruling has created a chilling effect in international policy spaces, </span>\n",
       "<span style=\"color: #008000; text-decoration-color: #008000\">emboldening anti-abortion state and non-state actors to undermine human rights protections.\"</span>,\n",
       "    <span style=\"color: #008000; text-decoration-color: #008000\">'The USA Supreme Court ruling on abortion has sparked intense debates and discussions not only within the </span>\n",
       "<span style=\"color: #008000; text-decoration-color: #008000\">country but also around the world. Many countries look to the United States as a leader in legal and social issues,</span>\n",
       "<span style=\"color: #008000; text-decoration-color: #008000\">so the decision could potentially influence the policies and attitudes towards abortion in other nations.'</span>,\n",
       "    <span style=\"color: #008000; text-decoration-color: #008000\">\"The ruling may also impact international organizations and non-governmental groups that work on reproductive </span>\n",
       "<span style=\"color: #008000; text-decoration-color: #008000\">rights and women's health issues. Depending on the outcome, there could be shifts in funding, advocacy efforts, and</span>\n",
       "<span style=\"color: #008000; text-decoration-color: #008000\">collaborations with American counterparts, leading to ripple effects in the global fight for reproductive justice.\"</span>\n",
       "<span style=\"font-weight: bold\">]</span>\n",
       "</pre>\n"
      ],
      "text/plain": [
       "\u001b[1m[\u001b[0m\n",
       "    \u001b[32m\"- In 2022, the USA Supreme Court handed down a decision ruling that overturned 50 years of jurisprudence \u001b[0m\n",
       "\u001b[32mrecognizing a constitutional right to abortion.\\n- This decision has had a massive impact: one in three women and \u001b[0m\n",
       "\u001b[32mgirls of reproductive age now live in states where abortion access is either totally or near-totally \u001b[0m\n",
       "\u001b[32minaccessible.\\n- The states with the most restrictive abortion laws have the weakest maternal health support, \u001b[0m\n",
       "\u001b[32mhigher maternal death rates, and higher child poverty rates.\\n- The USA Supreme Court ruling has also had impacts \u001b[0m\n",
       "\u001b[32mbeyond national borders due to the geopolitical and cultural influence wielded by the USA globally and the aid it \u001b[0m\n",
       "\u001b[32mfunds.\\n- SRR organizations and activists across the world have expressed fear about the ruling laying the \u001b[0m\n",
       "\u001b[32mgroundwork for anti-abortion legislative and policy attacks in other countries.\\n- Advocates have also observed the\u001b[0m\n",
       "\u001b[32mruling's impact on progressive law reform and the stalling of the adoption and enforcement of abortion guidelines \u001b[0m\n",
       "\u001b[32min certain African countries.\\n- The ruling has created a chilling effect in international policy spaces, \u001b[0m\n",
       "\u001b[32memboldening anti-abortion state and non-state actors to undermine human rights protections.\"\u001b[0m,\n",
       "    \u001b[32m'The USA Supreme Court ruling on abortion has sparked intense debates and discussions not only within the \u001b[0m\n",
       "\u001b[32mcountry but also around the world. Many countries look to the United States as a leader in legal and social issues,\u001b[0m\n",
       "\u001b[32mso the decision could potentially influence the policies and attitudes towards abortion in other nations.'\u001b[0m,\n",
       "    \u001b[32m\"The ruling may also impact international organizations and non-governmental groups that work on reproductive \u001b[0m\n",
       "\u001b[32mrights and women's health issues. Depending on the outcome, there could be shifts in funding, advocacy efforts, and\u001b[0m\n",
       "\u001b[32mcollaborations with American counterparts, leading to ripple effects in the global fight for reproductive justice.\"\u001b[0m\n",
       "\u001b[1m]\u001b[0m\n"
      ]
     },
     "metadata": {},
     "output_type": "display_data"
    }
   ],
   "source": [
    "print(type(dataset_df.loc[0, \"retrieved_contexts\"]))\n",
    "pprint(dataset_df.loc[0, \"retrieved_contexts\"])"
   ]
  },
  {
   "cell_type": "code",
   "execution_count": 19,
   "metadata": {},
   "outputs": [],
   "source": [
    "from ragas import EvaluationDataset\n",
    "\n",
    "eval_dataset = EvaluationDataset.from_hf_dataset(dataset[\"eval\"])"
   ]
  },
  {
   "cell_type": "code",
   "execution_count": 20,
   "metadata": {},
   "outputs": [],
   "source": [
    "from ragas.metrics import LLMContextRecall, Faithfulness, FactualCorrectness, SemanticSimilarity\n",
    "from ragas import evaluate"
   ]
  },
  {
   "cell_type": "code",
   "execution_count": 21,
   "metadata": {},
   "outputs": [],
   "source": [
    "import os\n",
    "os.environ[\"OPENAI_API_KEY\"] = os.environ[\"AZURE_OPENAI_API_KEY\"]\n",
    "\n",
    "# other configuration\n",
    "azure_config = {\n",
    "    \"base_url\": \"https://llmresource.openai.azure.com/\",  # your endpoint\n",
    "    \"model_deployment\": \"gpt-4o-mini\",  # your model deployment name\n",
    "    \"model_name\": \"gpt-4o-mini\",  # your model name\n",
    "    \"embedding_deployment\": \"text-embedding-3-small\",  # your embedding deployment name\n",
    "    \"embedding_name\": \"text-embedding-3-small\",  # your embedding name\n",
    "}"
   ]
  },
  {
   "cell_type": "code",
   "execution_count": 22,
   "metadata": {},
   "outputs": [],
   "source": [
    "from langchain_openai import AzureChatOpenAI\n",
    "from langchain_openai import AzureOpenAIEmbeddings\n",
    "from ragas.llms import LangchainLLMWrapper\n",
    "from ragas.embeddings import LangchainEmbeddingsWrapper\n",
    "\n",
    "evaluator_llm = LangchainLLMWrapper(AzureChatOpenAI(\n",
    "    openai_api_version=\"2024-08-01-preview\",\n",
    "    azure_endpoint=azure_config[\"base_url\"],\n",
    "    azure_deployment=azure_config[\"model_deployment\"],\n",
    "    model=azure_config[\"model_name\"],\n",
    "    validate_base_url=False,\n",
    "))\n",
    "\n",
    "# init the embeddings for answer_relevancy, answer_correctness and answer_similarity\n",
    "evaluator_embeddings = LangchainEmbeddingsWrapper(AzureOpenAIEmbeddings(\n",
    "    openai_api_version=\"2023-05-15\",\n",
    "    azure_endpoint=azure_config[\"base_url\"],\n",
    "    azure_deployment=azure_config[\"embedding_deployment\"],\n",
    "    model=azure_config[\"embedding_name\"],\n",
    "))"
   ]
  },
  {
   "cell_type": "code",
   "execution_count": 23,
   "metadata": {},
   "outputs": [
    {
     "name": "stderr",
     "output_type": "stream",
     "text": [
      "Evaluating: 100%|██████████| 80/80 [01:07<00:00,  1.19it/s]\n"
     ]
    }
   ],
   "source": [
    "metrics = [\n",
    "    LLMContextRecall(llm=evaluator_llm), \n",
    "    FactualCorrectness(llm=evaluator_llm), \n",
    "    Faithfulness(llm=evaluator_llm),\n",
    "    SemanticSimilarity(embeddings=evaluator_embeddings)\n",
    "]\n",
    "results = evaluate(dataset=eval_dataset, metrics=metrics)"
   ]
  },
  {
   "cell_type": "code",
   "execution_count": 24,
   "metadata": {},
   "outputs": [
    {
     "data": {
      "text/html": [
       "<div>\n",
       "<style scoped>\n",
       "    .dataframe tbody tr th:only-of-type {\n",
       "        vertical-align: middle;\n",
       "    }\n",
       "\n",
       "    .dataframe tbody tr th {\n",
       "        vertical-align: top;\n",
       "    }\n",
       "\n",
       "    .dataframe thead th {\n",
       "        text-align: right;\n",
       "    }\n",
       "</style>\n",
       "<table border=\"1\" class=\"dataframe\">\n",
       "  <thead>\n",
       "    <tr style=\"text-align: right;\">\n",
       "      <th></th>\n",
       "      <th>user_input</th>\n",
       "      <th>retrieved_contexts</th>\n",
       "      <th>response</th>\n",
       "      <th>reference</th>\n",
       "      <th>context_recall</th>\n",
       "      <th>factual_correctness</th>\n",
       "      <th>faithfulness</th>\n",
       "      <th>semantic_similarity</th>\n",
       "    </tr>\n",
       "  </thead>\n",
       "  <tbody>\n",
       "    <tr>\n",
       "      <th>0</th>\n",
       "      <td>What are the global implications of the USA Su...</td>\n",
       "      <td>[- In 2022, the USA Supreme Court handed down ...</td>\n",
       "      <td>The global implications of the USA Supreme Cou...</td>\n",
       "      <td>The global implications of the USA Supreme Cou...</td>\n",
       "      <td>1.0</td>\n",
       "      <td>0.62</td>\n",
       "      <td>0.866667</td>\n",
       "      <td>0.876302</td>\n",
       "    </tr>\n",
       "    <tr>\n",
       "      <th>1</th>\n",
       "      <td>Which companies are the main contributors to G...</td>\n",
       "      <td>[In recent years, there has been increasing pr...</td>\n",
       "      <td>According to the Carbon Majors database, the m...</td>\n",
       "      <td>According to the Carbon Majors database, the m...</td>\n",
       "      <td>1.0</td>\n",
       "      <td>0.33</td>\n",
       "      <td>0.120000</td>\n",
       "      <td>0.803631</td>\n",
       "    </tr>\n",
       "    <tr>\n",
       "      <th>2</th>\n",
       "      <td>Which private companies in the Americas are th...</td>\n",
       "      <td>[The issue of greenhouse gas emissions has bec...</td>\n",
       "      <td>According to the Carbon Majors database, the l...</td>\n",
       "      <td>The largest private companies in the Americas ...</td>\n",
       "      <td>1.0</td>\n",
       "      <td>0.43</td>\n",
       "      <td>0.000000</td>\n",
       "      <td>0.890809</td>\n",
       "    </tr>\n",
       "    <tr>\n",
       "      <th>3</th>\n",
       "      <td>What action did Amnesty International urge its...</td>\n",
       "      <td>[In the case of the Ogoni 9, Amnesty Internati...</td>\n",
       "      <td>Amnesty International urged its supporters to ...</td>\n",
       "      <td>Amnesty International urged its supporters to ...</td>\n",
       "      <td>1.0</td>\n",
       "      <td>0.25</td>\n",
       "      <td>0.600000</td>\n",
       "      <td>0.733717</td>\n",
       "    </tr>\n",
       "    <tr>\n",
       "      <th>4</th>\n",
       "      <td>What are the recommendations made by Amnesty I...</td>\n",
       "      <td>[In recent years, Amnesty International has fo...</td>\n",
       "      <td>Amnesty International made several recommendat...</td>\n",
       "      <td>The recommendations made by Amnesty Internatio...</td>\n",
       "      <td>1.0</td>\n",
       "      <td>0.06</td>\n",
       "      <td>0.047619</td>\n",
       "      <td>0.759165</td>\n",
       "    </tr>\n",
       "  </tbody>\n",
       "</table>\n",
       "</div>"
      ],
      "text/plain": [
       "                                          user_input  \\\n",
       "0  What are the global implications of the USA Su...   \n",
       "1  Which companies are the main contributors to G...   \n",
       "2  Which private companies in the Americas are th...   \n",
       "3  What action did Amnesty International urge its...   \n",
       "4  What are the recommendations made by Amnesty I...   \n",
       "\n",
       "                                  retrieved_contexts  \\\n",
       "0  [- In 2022, the USA Supreme Court handed down ...   \n",
       "1  [In recent years, there has been increasing pr...   \n",
       "2  [The issue of greenhouse gas emissions has bec...   \n",
       "3  [In the case of the Ogoni 9, Amnesty Internati...   \n",
       "4  [In recent years, Amnesty International has fo...   \n",
       "\n",
       "                                            response  \\\n",
       "0  The global implications of the USA Supreme Cou...   \n",
       "1  According to the Carbon Majors database, the m...   \n",
       "2  According to the Carbon Majors database, the l...   \n",
       "3  Amnesty International urged its supporters to ...   \n",
       "4  Amnesty International made several recommendat...   \n",
       "\n",
       "                                           reference  context_recall  \\\n",
       "0  The global implications of the USA Supreme Cou...             1.0   \n",
       "1  According to the Carbon Majors database, the m...             1.0   \n",
       "2  The largest private companies in the Americas ...             1.0   \n",
       "3  Amnesty International urged its supporters to ...             1.0   \n",
       "4  The recommendations made by Amnesty Internatio...             1.0   \n",
       "\n",
       "   factual_correctness  faithfulness  semantic_similarity  \n",
       "0                 0.62      0.866667             0.876302  \n",
       "1                 0.33      0.120000             0.803631  \n",
       "2                 0.43      0.000000             0.890809  \n",
       "3                 0.25      0.600000             0.733717  \n",
       "4                 0.06      0.047619             0.759165  "
      ]
     },
     "execution_count": 24,
     "metadata": {},
     "output_type": "execute_result"
    }
   ],
   "source": [
    "df = results.to_pandas()\n",
    "df.head()"
   ]
  }
 ],
 "metadata": {
  "kernelspec": {
   "display_name": "llmEvaluate",
   "language": "python",
   "name": "python3"
  },
  "language_info": {
   "codemirror_mode": {
    "name": "ipython",
    "version": 3
   },
   "file_extension": ".py",
   "mimetype": "text/x-python",
   "name": "python",
   "nbconvert_exporter": "python",
   "pygments_lexer": "ipython3",
   "version": "3.10.15"
  },
  "orig_nbformat": 4
 },
 "nbformat": 4,
 "nbformat_minor": 2
}
